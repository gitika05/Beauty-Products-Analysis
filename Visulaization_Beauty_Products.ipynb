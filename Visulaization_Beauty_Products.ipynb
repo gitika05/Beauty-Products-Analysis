{
  "nbformat": 4,
  "nbformat_minor": 0,
  "metadata": {
    "colab": {
      "provenance": []
    },
    "kernelspec": {
      "name": "python3",
      "display_name": "Python 3"
    },
    "language_info": {
      "name": "python"
    }
  },
  "cells": [
    {
      "cell_type": "code",
      "execution_count": null,
      "metadata": {
        "id": "up-2eslcwNc4"
      },
      "outputs": [],
      "source": [
        "# General\n",
        "import numpy as np\n",
        "import pandas as pd\n",
        "import re\n",
        "import seaborn as sns\n",
        "import matplotlib.pyplot as plt\n"
      ]
    },
    {
      "cell_type": "code",
      "source": [
        "#  sklearn libraries\n",
        "from sklearn.preprocessing import LabelEncoder, MinMaxScaler,OneHotEncoder\n",
        "from sklearn.model_selection import train_test_split\n",
        "\n",
        "# Keras model components\n",
        "import tensorflow as tf\n",
        "from tensorflow.keras.models import Model\n",
        "from tensorflow.keras.layers import Input, Dropout, Dense, concatenate, GRU, Embedding, Flatten\n",
        "from tensorflow.keras.layers import Conv1D, Reshape\n",
        "from tensorflow.keras.callbacks import ModelCheckpoint, Callback, EarlyStopping\n",
        "\n",
        "# For text (word) to integer transformation\n",
        "from tensorflow.keras.preprocessing.text import Tokenizer\n",
        "\n",
        "# For making all integer sequences of equal length\n",
        "from tensorflow.keras.preprocessing.sequence import pad_sequences\n",
        "\n",
        "# Import backend to invoke tensorflow commands to manipulate tensors\n",
        "from tensorflow.keras import backend as K\n",
        "\n",
        "# Plotting libraries\n",
        "from tensorflow.keras.utils import plot_model\n",
        "import matplotlib.pyplot as plt\n",
        "%matplotlib inline \n",
        "\n",
        "# Misc\n",
        "import math, time, os,gc"
      ],
      "metadata": {
        "id": "_bVGUJ3wStir"
      },
      "execution_count": null,
      "outputs": []
    },
    {
      "cell_type": "code",
      "source": [
        "# Print all outputs from a cell\n",
        "from IPython.core.interactiveshell import InteractiveShell\n",
        "InteractiveShell.ast_node_interactivity = \"all\""
      ],
      "metadata": {
        "id": "RsdxGhA6ST4-"
      },
      "execution_count": null,
      "outputs": []
    },
    {
      "cell_type": "code",
      "source": [
        "# Mounting GDrive\n",
        "from google.colab import drive\n",
        "drive.mount('/gdrive')"
      ],
      "metadata": {
        "colab": {
          "base_uri": "https://localhost:8080/"
        },
        "id": "vCV40m9swU-K",
        "outputId": "f231ca87-435f-4111-d98e-4bbfdd5b6ad3"
      },
      "execution_count": null,
      "outputs": [
        {
          "output_type": "stream",
          "name": "stdout",
          "text": [
            "Mounted at /gdrive\n"
          ]
        }
      ]
    },
    {
      "cell_type": "code",
      "source": [
        "# Path to folder in gdrive where data files are: \n",
        "pathToFolder = \"/gdrive/MyDrive/FA/\""
      ],
      "metadata": {
        "id": "BghArbUgwYhp"
      },
      "execution_count": null,
      "outputs": []
    },
    {
      "cell_type": "code",
      "source": [
        "#  Read dataset in pandas:\n",
        "df =pd.read_excel(pathToFolder+\"nyka_top_brands_cosmetics_product_reviews.xlsx\")"
      ],
      "metadata": {
        "id": "pPFz0pX3w408"
      },
      "execution_count": null,
      "outputs": []
    },
    {
      "cell_type": "code",
      "source": [
        "df.head()"
      ],
      "metadata": {
        "colab": {
          "base_uri": "https://localhost:8080/",
          "height": 523
        },
        "id": "2A3kTkvBxd7q",
        "outputId": "9fd7cb7e-7051-4602-c2ab-6263f0c4b185"
      },
      "execution_count": null,
      "outputs": [
        {
          "output_type": "execute_result",
          "data": {
            "text/plain": [
              "   product_id brand_name  review_id                         review_title  \\\n",
              "0      781070       Olay   16752142                 Worth buying 50g one   \n",
              "1      781070       Olay   14682550           Best cream to start ur day   \n",
              "2      781070       Olay   15618995  perfect for summers dry for winters   \n",
              "3      781070       Olay   13474509                    Not a moisturizer   \n",
              "4      781070       Olay   16338982                              Average   \n",
              "\n",
              "                                         review_text          author  \\\n",
              "0  Works as it claims. Could see the difference f...   Ashton Dsouza   \n",
              "1  It does what it claims . Best thing is it smoo...    Amrit Neelam   \n",
              "2  I have been using this product for months now....    Sanchi Gupta   \n",
              "3  i have an oily skin, while this whip acts as a...      Ruchi Shah   \n",
              "4  It's not that good. Please refresh try for oth...  Sukanya Sarkar   \n",
              "\n",
              "          review_date  review_rating  is_a_buyer  pro_user    review_label  \\\n",
              "0 2021-01-23 15:17:18            5.0        True     False  Verified Buyer   \n",
              "1 2020-09-07 15:30:42            5.0        True     False  Verified Buyer   \n",
              "2 2020-11-13 12:24:14            4.0        True     False  Verified Buyer   \n",
              "3 2020-06-14 11:56:50            3.0        True     False  Verified Buyer   \n",
              "4 2020-12-22 15:24:35            2.0        True     False  Verified Buyer   \n",
              "\n",
              "                                       product_title   mrp  price  \\\n",
              "0  Olay Ultra Lightweight Moisturiser: Luminous W...  1999   1599   \n",
              "1  Olay Ultra Lightweight Moisturiser: Luminous W...  1999   1599   \n",
              "2  Olay Ultra Lightweight Moisturiser: Luminous W...  1999   1599   \n",
              "3  Olay Ultra Lightweight Moisturiser: Luminous W...  1999   1599   \n",
              "4  Olay Ultra Lightweight Moisturiser: Luminous W...  1999   1599   \n",
              "\n",
              "   product_rating  product_rating_count product_tags  \\\n",
              "0             4.1                    43          NaN   \n",
              "1             4.1                    43          NaN   \n",
              "2             4.1                    43          NaN   \n",
              "3             4.1                    43          NaN   \n",
              "4             4.1                    43          NaN   \n",
              "\n",
              "                                         product_url  \n",
              "0  https://www.nykaa.com/olay-ultra-lightweight-m...  \n",
              "1  https://www.nykaa.com/olay-ultra-lightweight-m...  \n",
              "2  https://www.nykaa.com/olay-ultra-lightweight-m...  \n",
              "3  https://www.nykaa.com/olay-ultra-lightweight-m...  \n",
              "4  https://www.nykaa.com/olay-ultra-lightweight-m...  "
            ],
            "text/html": [
              "\n",
              "  <div id=\"df-90515dac-3122-43ac-9720-e14a7d41a305\">\n",
              "    <div class=\"colab-df-container\">\n",
              "      <div>\n",
              "<style scoped>\n",
              "    .dataframe tbody tr th:only-of-type {\n",
              "        vertical-align: middle;\n",
              "    }\n",
              "\n",
              "    .dataframe tbody tr th {\n",
              "        vertical-align: top;\n",
              "    }\n",
              "\n",
              "    .dataframe thead th {\n",
              "        text-align: right;\n",
              "    }\n",
              "</style>\n",
              "<table border=\"1\" class=\"dataframe\">\n",
              "  <thead>\n",
              "    <tr style=\"text-align: right;\">\n",
              "      <th></th>\n",
              "      <th>product_id</th>\n",
              "      <th>brand_name</th>\n",
              "      <th>review_id</th>\n",
              "      <th>review_title</th>\n",
              "      <th>review_text</th>\n",
              "      <th>author</th>\n",
              "      <th>review_date</th>\n",
              "      <th>review_rating</th>\n",
              "      <th>is_a_buyer</th>\n",
              "      <th>pro_user</th>\n",
              "      <th>review_label</th>\n",
              "      <th>product_title</th>\n",
              "      <th>mrp</th>\n",
              "      <th>price</th>\n",
              "      <th>product_rating</th>\n",
              "      <th>product_rating_count</th>\n",
              "      <th>product_tags</th>\n",
              "      <th>product_url</th>\n",
              "    </tr>\n",
              "  </thead>\n",
              "  <tbody>\n",
              "    <tr>\n",
              "      <th>0</th>\n",
              "      <td>781070</td>\n",
              "      <td>Olay</td>\n",
              "      <td>16752142</td>\n",
              "      <td>Worth buying 50g one</td>\n",
              "      <td>Works as it claims. Could see the difference f...</td>\n",
              "      <td>Ashton Dsouza</td>\n",
              "      <td>2021-01-23 15:17:18</td>\n",
              "      <td>5.0</td>\n",
              "      <td>True</td>\n",
              "      <td>False</td>\n",
              "      <td>Verified Buyer</td>\n",
              "      <td>Olay Ultra Lightweight Moisturiser: Luminous W...</td>\n",
              "      <td>1999</td>\n",
              "      <td>1599</td>\n",
              "      <td>4.1</td>\n",
              "      <td>43</td>\n",
              "      <td>NaN</td>\n",
              "      <td>https://www.nykaa.com/olay-ultra-lightweight-m...</td>\n",
              "    </tr>\n",
              "    <tr>\n",
              "      <th>1</th>\n",
              "      <td>781070</td>\n",
              "      <td>Olay</td>\n",
              "      <td>14682550</td>\n",
              "      <td>Best cream to start ur day</td>\n",
              "      <td>It does what it claims . Best thing is it smoo...</td>\n",
              "      <td>Amrit Neelam</td>\n",
              "      <td>2020-09-07 15:30:42</td>\n",
              "      <td>5.0</td>\n",
              "      <td>True</td>\n",
              "      <td>False</td>\n",
              "      <td>Verified Buyer</td>\n",
              "      <td>Olay Ultra Lightweight Moisturiser: Luminous W...</td>\n",
              "      <td>1999</td>\n",
              "      <td>1599</td>\n",
              "      <td>4.1</td>\n",
              "      <td>43</td>\n",
              "      <td>NaN</td>\n",
              "      <td>https://www.nykaa.com/olay-ultra-lightweight-m...</td>\n",
              "    </tr>\n",
              "    <tr>\n",
              "      <th>2</th>\n",
              "      <td>781070</td>\n",
              "      <td>Olay</td>\n",
              "      <td>15618995</td>\n",
              "      <td>perfect for summers dry for winters</td>\n",
              "      <td>I have been using this product for months now....</td>\n",
              "      <td>Sanchi Gupta</td>\n",
              "      <td>2020-11-13 12:24:14</td>\n",
              "      <td>4.0</td>\n",
              "      <td>True</td>\n",
              "      <td>False</td>\n",
              "      <td>Verified Buyer</td>\n",
              "      <td>Olay Ultra Lightweight Moisturiser: Luminous W...</td>\n",
              "      <td>1999</td>\n",
              "      <td>1599</td>\n",
              "      <td>4.1</td>\n",
              "      <td>43</td>\n",
              "      <td>NaN</td>\n",
              "      <td>https://www.nykaa.com/olay-ultra-lightweight-m...</td>\n",
              "    </tr>\n",
              "    <tr>\n",
              "      <th>3</th>\n",
              "      <td>781070</td>\n",
              "      <td>Olay</td>\n",
              "      <td>13474509</td>\n",
              "      <td>Not a moisturizer</td>\n",
              "      <td>i have an oily skin, while this whip acts as a...</td>\n",
              "      <td>Ruchi Shah</td>\n",
              "      <td>2020-06-14 11:56:50</td>\n",
              "      <td>3.0</td>\n",
              "      <td>True</td>\n",
              "      <td>False</td>\n",
              "      <td>Verified Buyer</td>\n",
              "      <td>Olay Ultra Lightweight Moisturiser: Luminous W...</td>\n",
              "      <td>1999</td>\n",
              "      <td>1599</td>\n",
              "      <td>4.1</td>\n",
              "      <td>43</td>\n",
              "      <td>NaN</td>\n",
              "      <td>https://www.nykaa.com/olay-ultra-lightweight-m...</td>\n",
              "    </tr>\n",
              "    <tr>\n",
              "      <th>4</th>\n",
              "      <td>781070</td>\n",
              "      <td>Olay</td>\n",
              "      <td>16338982</td>\n",
              "      <td>Average</td>\n",
              "      <td>It's not that good. Please refresh try for oth...</td>\n",
              "      <td>Sukanya Sarkar</td>\n",
              "      <td>2020-12-22 15:24:35</td>\n",
              "      <td>2.0</td>\n",
              "      <td>True</td>\n",
              "      <td>False</td>\n",
              "      <td>Verified Buyer</td>\n",
              "      <td>Olay Ultra Lightweight Moisturiser: Luminous W...</td>\n",
              "      <td>1999</td>\n",
              "      <td>1599</td>\n",
              "      <td>4.1</td>\n",
              "      <td>43</td>\n",
              "      <td>NaN</td>\n",
              "      <td>https://www.nykaa.com/olay-ultra-lightweight-m...</td>\n",
              "    </tr>\n",
              "  </tbody>\n",
              "</table>\n",
              "</div>\n",
              "      <button class=\"colab-df-convert\" onclick=\"convertToInteractive('df-90515dac-3122-43ac-9720-e14a7d41a305')\"\n",
              "              title=\"Convert this dataframe to an interactive table.\"\n",
              "              style=\"display:none;\">\n",
              "        \n",
              "  <svg xmlns=\"http://www.w3.org/2000/svg\" height=\"24px\"viewBox=\"0 0 24 24\"\n",
              "       width=\"24px\">\n",
              "    <path d=\"M0 0h24v24H0V0z\" fill=\"none\"/>\n",
              "    <path d=\"M18.56 5.44l.94 2.06.94-2.06 2.06-.94-2.06-.94-.94-2.06-.94 2.06-2.06.94zm-11 1L8.5 8.5l.94-2.06 2.06-.94-2.06-.94L8.5 2.5l-.94 2.06-2.06.94zm10 10l.94 2.06.94-2.06 2.06-.94-2.06-.94-.94-2.06-.94 2.06-2.06.94z\"/><path d=\"M17.41 7.96l-1.37-1.37c-.4-.4-.92-.59-1.43-.59-.52 0-1.04.2-1.43.59L10.3 9.45l-7.72 7.72c-.78.78-.78 2.05 0 2.83L4 21.41c.39.39.9.59 1.41.59.51 0 1.02-.2 1.41-.59l7.78-7.78 2.81-2.81c.8-.78.8-2.07 0-2.86zM5.41 20L4 18.59l7.72-7.72 1.47 1.35L5.41 20z\"/>\n",
              "  </svg>\n",
              "      </button>\n",
              "      \n",
              "  <style>\n",
              "    .colab-df-container {\n",
              "      display:flex;\n",
              "      flex-wrap:wrap;\n",
              "      gap: 12px;\n",
              "    }\n",
              "\n",
              "    .colab-df-convert {\n",
              "      background-color: #E8F0FE;\n",
              "      border: none;\n",
              "      border-radius: 50%;\n",
              "      cursor: pointer;\n",
              "      display: none;\n",
              "      fill: #1967D2;\n",
              "      height: 32px;\n",
              "      padding: 0 0 0 0;\n",
              "      width: 32px;\n",
              "    }\n",
              "\n",
              "    .colab-df-convert:hover {\n",
              "      background-color: #E2EBFA;\n",
              "      box-shadow: 0px 1px 2px rgba(60, 64, 67, 0.3), 0px 1px 3px 1px rgba(60, 64, 67, 0.15);\n",
              "      fill: #174EA6;\n",
              "    }\n",
              "\n",
              "    [theme=dark] .colab-df-convert {\n",
              "      background-color: #3B4455;\n",
              "      fill: #D2E3FC;\n",
              "    }\n",
              "\n",
              "    [theme=dark] .colab-df-convert:hover {\n",
              "      background-color: #434B5C;\n",
              "      box-shadow: 0px 1px 3px 1px rgba(0, 0, 0, 0.15);\n",
              "      filter: drop-shadow(0px 1px 2px rgba(0, 0, 0, 0.3));\n",
              "      fill: #FFFFFF;\n",
              "    }\n",
              "  </style>\n",
              "\n",
              "      <script>\n",
              "        const buttonEl =\n",
              "          document.querySelector('#df-90515dac-3122-43ac-9720-e14a7d41a305 button.colab-df-convert');\n",
              "        buttonEl.style.display =\n",
              "          google.colab.kernel.accessAllowed ? 'block' : 'none';\n",
              "\n",
              "        async function convertToInteractive(key) {\n",
              "          const element = document.querySelector('#df-90515dac-3122-43ac-9720-e14a7d41a305');\n",
              "          const dataTable =\n",
              "            await google.colab.kernel.invokeFunction('convertToInteractive',\n",
              "                                                     [key], {});\n",
              "          if (!dataTable) return;\n",
              "\n",
              "          const docLinkHtml = 'Like what you see? Visit the ' +\n",
              "            '<a target=\"_blank\" href=https://colab.research.google.com/notebooks/data_table.ipynb>data table notebook</a>'\n",
              "            + ' to learn more about interactive tables.';\n",
              "          element.innerHTML = '';\n",
              "          dataTable['output_type'] = 'display_data';\n",
              "          await google.colab.output.renderOutput(dataTable, element);\n",
              "          const docLink = document.createElement('div');\n",
              "          docLink.innerHTML = docLinkHtml;\n",
              "          element.appendChild(docLink);\n",
              "        }\n",
              "      </script>\n",
              "    </div>\n",
              "  </div>\n",
              "  "
            ]
          },
          "metadata": {},
          "execution_count": 45
        }
      ]
    },
    {
      "cell_type": "code",
      "source": [
        "df.shape"
      ],
      "metadata": {
        "colab": {
          "base_uri": "https://localhost:8080/"
        },
        "id": "-GucYdtgxJLj",
        "outputId": "fac94f70-04fb-458a-ea3e-22ed7258a72b"
      },
      "execution_count": null,
      "outputs": [
        {
          "output_type": "execute_result",
          "data": {
            "text/plain": [
              "(61284, 18)"
            ]
          },
          "metadata": {},
          "execution_count": 43
        }
      ]
    },
    {
      "cell_type": "code",
      "source": [
        "df.describe()"
      ],
      "metadata": {
        "colab": {
          "base_uri": "https://localhost:8080/",
          "height": 297
        },
        "id": "3Ymla6sC5enL",
        "outputId": "c5ecfaf9-3d32-4037-88e0-3e37d2a5a145"
      },
      "execution_count": null,
      "outputs": [
        {
          "output_type": "execute_result",
          "data": {
            "text/plain": [
              "         product_id     review_id  review_rating           mrp         price  \\\n",
              "count  6.128300e+04  6.128300e+04   61283.000000  61283.000000  61283.000000   \n",
              "mean   7.983926e+05  1.485009e+07       4.414781    573.255732    462.123183   \n",
              "std    1.281425e+06  7.383481e+06       1.062547    324.099646    264.874490   \n",
              "min    2.500000e+02  9.600000e+01       1.000000     75.000000     45.000000   \n",
              "25%    1.604880e+05  1.102385e+07       4.000000    300.000000    262.000000   \n",
              "50%    4.524430e+05  1.525146e+07       5.000000    599.000000    400.000000   \n",
              "75%    7.665290e+05  2.002958e+07       5.000000    799.000000    639.000000   \n",
              "max    7.749427e+06  2.963031e+07       5.000000   3874.000000   2947.000000   \n",
              "\n",
              "       product_rating  product_rating_count  \n",
              "count    61283.000000          61283.000000  \n",
              "mean         4.099132           7583.068143  \n",
              "std          0.235946          14463.341092  \n",
              "min          1.500000              1.000000  \n",
              "25%          4.000000           1760.000000  \n",
              "50%          4.100000           3925.000000  \n",
              "75%          4.300000           8720.000000  \n",
              "max          4.800000          98477.000000  "
            ],
            "text/html": [
              "\n",
              "  <div id=\"df-72ddbcb0-e69e-4d78-9af9-fed6cb0159d3\">\n",
              "    <div class=\"colab-df-container\">\n",
              "      <div>\n",
              "<style scoped>\n",
              "    .dataframe tbody tr th:only-of-type {\n",
              "        vertical-align: middle;\n",
              "    }\n",
              "\n",
              "    .dataframe tbody tr th {\n",
              "        vertical-align: top;\n",
              "    }\n",
              "\n",
              "    .dataframe thead th {\n",
              "        text-align: right;\n",
              "    }\n",
              "</style>\n",
              "<table border=\"1\" class=\"dataframe\">\n",
              "  <thead>\n",
              "    <tr style=\"text-align: right;\">\n",
              "      <th></th>\n",
              "      <th>product_id</th>\n",
              "      <th>review_id</th>\n",
              "      <th>review_rating</th>\n",
              "      <th>mrp</th>\n",
              "      <th>price</th>\n",
              "      <th>product_rating</th>\n",
              "      <th>product_rating_count</th>\n",
              "    </tr>\n",
              "  </thead>\n",
              "  <tbody>\n",
              "    <tr>\n",
              "      <th>count</th>\n",
              "      <td>6.128300e+04</td>\n",
              "      <td>6.128300e+04</td>\n",
              "      <td>61283.000000</td>\n",
              "      <td>61283.000000</td>\n",
              "      <td>61283.000000</td>\n",
              "      <td>61283.000000</td>\n",
              "      <td>61283.000000</td>\n",
              "    </tr>\n",
              "    <tr>\n",
              "      <th>mean</th>\n",
              "      <td>7.983926e+05</td>\n",
              "      <td>1.485009e+07</td>\n",
              "      <td>4.414781</td>\n",
              "      <td>573.255732</td>\n",
              "      <td>462.123183</td>\n",
              "      <td>4.099132</td>\n",
              "      <td>7583.068143</td>\n",
              "    </tr>\n",
              "    <tr>\n",
              "      <th>std</th>\n",
              "      <td>1.281425e+06</td>\n",
              "      <td>7.383481e+06</td>\n",
              "      <td>1.062547</td>\n",
              "      <td>324.099646</td>\n",
              "      <td>264.874490</td>\n",
              "      <td>0.235946</td>\n",
              "      <td>14463.341092</td>\n",
              "    </tr>\n",
              "    <tr>\n",
              "      <th>min</th>\n",
              "      <td>2.500000e+02</td>\n",
              "      <td>9.600000e+01</td>\n",
              "      <td>1.000000</td>\n",
              "      <td>75.000000</td>\n",
              "      <td>45.000000</td>\n",
              "      <td>1.500000</td>\n",
              "      <td>1.000000</td>\n",
              "    </tr>\n",
              "    <tr>\n",
              "      <th>25%</th>\n",
              "      <td>1.604880e+05</td>\n",
              "      <td>1.102385e+07</td>\n",
              "      <td>4.000000</td>\n",
              "      <td>300.000000</td>\n",
              "      <td>262.000000</td>\n",
              "      <td>4.000000</td>\n",
              "      <td>1760.000000</td>\n",
              "    </tr>\n",
              "    <tr>\n",
              "      <th>50%</th>\n",
              "      <td>4.524430e+05</td>\n",
              "      <td>1.525146e+07</td>\n",
              "      <td>5.000000</td>\n",
              "      <td>599.000000</td>\n",
              "      <td>400.000000</td>\n",
              "      <td>4.100000</td>\n",
              "      <td>3925.000000</td>\n",
              "    </tr>\n",
              "    <tr>\n",
              "      <th>75%</th>\n",
              "      <td>7.665290e+05</td>\n",
              "      <td>2.002958e+07</td>\n",
              "      <td>5.000000</td>\n",
              "      <td>799.000000</td>\n",
              "      <td>639.000000</td>\n",
              "      <td>4.300000</td>\n",
              "      <td>8720.000000</td>\n",
              "    </tr>\n",
              "    <tr>\n",
              "      <th>max</th>\n",
              "      <td>7.749427e+06</td>\n",
              "      <td>2.963031e+07</td>\n",
              "      <td>5.000000</td>\n",
              "      <td>3874.000000</td>\n",
              "      <td>2947.000000</td>\n",
              "      <td>4.800000</td>\n",
              "      <td>98477.000000</td>\n",
              "    </tr>\n",
              "  </tbody>\n",
              "</table>\n",
              "</div>\n",
              "      <button class=\"colab-df-convert\" onclick=\"convertToInteractive('df-72ddbcb0-e69e-4d78-9af9-fed6cb0159d3')\"\n",
              "              title=\"Convert this dataframe to an interactive table.\"\n",
              "              style=\"display:none;\">\n",
              "        \n",
              "  <svg xmlns=\"http://www.w3.org/2000/svg\" height=\"24px\"viewBox=\"0 0 24 24\"\n",
              "       width=\"24px\">\n",
              "    <path d=\"M0 0h24v24H0V0z\" fill=\"none\"/>\n",
              "    <path d=\"M18.56 5.44l.94 2.06.94-2.06 2.06-.94-2.06-.94-.94-2.06-.94 2.06-2.06.94zm-11 1L8.5 8.5l.94-2.06 2.06-.94-2.06-.94L8.5 2.5l-.94 2.06-2.06.94zm10 10l.94 2.06.94-2.06 2.06-.94-2.06-.94-.94-2.06-.94 2.06-2.06.94z\"/><path d=\"M17.41 7.96l-1.37-1.37c-.4-.4-.92-.59-1.43-.59-.52 0-1.04.2-1.43.59L10.3 9.45l-7.72 7.72c-.78.78-.78 2.05 0 2.83L4 21.41c.39.39.9.59 1.41.59.51 0 1.02-.2 1.41-.59l7.78-7.78 2.81-2.81c.8-.78.8-2.07 0-2.86zM5.41 20L4 18.59l7.72-7.72 1.47 1.35L5.41 20z\"/>\n",
              "  </svg>\n",
              "      </button>\n",
              "      \n",
              "  <style>\n",
              "    .colab-df-container {\n",
              "      display:flex;\n",
              "      flex-wrap:wrap;\n",
              "      gap: 12px;\n",
              "    }\n",
              "\n",
              "    .colab-df-convert {\n",
              "      background-color: #E8F0FE;\n",
              "      border: none;\n",
              "      border-radius: 50%;\n",
              "      cursor: pointer;\n",
              "      display: none;\n",
              "      fill: #1967D2;\n",
              "      height: 32px;\n",
              "      padding: 0 0 0 0;\n",
              "      width: 32px;\n",
              "    }\n",
              "\n",
              "    .colab-df-convert:hover {\n",
              "      background-color: #E2EBFA;\n",
              "      box-shadow: 0px 1px 2px rgba(60, 64, 67, 0.3), 0px 1px 3px 1px rgba(60, 64, 67, 0.15);\n",
              "      fill: #174EA6;\n",
              "    }\n",
              "\n",
              "    [theme=dark] .colab-df-convert {\n",
              "      background-color: #3B4455;\n",
              "      fill: #D2E3FC;\n",
              "    }\n",
              "\n",
              "    [theme=dark] .colab-df-convert:hover {\n",
              "      background-color: #434B5C;\n",
              "      box-shadow: 0px 1px 3px 1px rgba(0, 0, 0, 0.15);\n",
              "      filter: drop-shadow(0px 1px 2px rgba(0, 0, 0, 0.3));\n",
              "      fill: #FFFFFF;\n",
              "    }\n",
              "  </style>\n",
              "\n",
              "      <script>\n",
              "        const buttonEl =\n",
              "          document.querySelector('#df-72ddbcb0-e69e-4d78-9af9-fed6cb0159d3 button.colab-df-convert');\n",
              "        buttonEl.style.display =\n",
              "          google.colab.kernel.accessAllowed ? 'block' : 'none';\n",
              "\n",
              "        async function convertToInteractive(key) {\n",
              "          const element = document.querySelector('#df-72ddbcb0-e69e-4d78-9af9-fed6cb0159d3');\n",
              "          const dataTable =\n",
              "            await google.colab.kernel.invokeFunction('convertToInteractive',\n",
              "                                                     [key], {});\n",
              "          if (!dataTable) return;\n",
              "\n",
              "          const docLinkHtml = 'Like what you see? Visit the ' +\n",
              "            '<a target=\"_blank\" href=https://colab.research.google.com/notebooks/data_table.ipynb>data table notebook</a>'\n",
              "            + ' to learn more about interactive tables.';\n",
              "          element.innerHTML = '';\n",
              "          dataTable['output_type'] = 'display_data';\n",
              "          await google.colab.output.renderOutput(dataTable, element);\n",
              "          const docLink = document.createElement('div');\n",
              "          docLink.innerHTML = docLinkHtml;\n",
              "          element.appendChild(docLink);\n",
              "        }\n",
              "      </script>\n",
              "    </div>\n",
              "  </div>\n",
              "  "
            ]
          },
          "metadata": {},
          "execution_count": 74
        }
      ]
    },
    {
      "cell_type": "code",
      "source": [
        "df.isnull().sum()"
      ],
      "metadata": {
        "colab": {
          "base_uri": "https://localhost:8080/"
        },
        "id": "hnuGOHX3xjrq",
        "outputId": "2660680c-840a-4741-a37c-65d435fde3c3"
      },
      "execution_count": null,
      "outputs": [
        {
          "output_type": "execute_result",
          "data": {
            "text/plain": [
              "product_id                  0\n",
              "brand_name                  0\n",
              "review_id                   0\n",
              "review_title                3\n",
              "review_text                 8\n",
              "author                      0\n",
              "review_date                 0\n",
              "review_rating               1\n",
              "is_a_buyer                  0\n",
              "pro_user                    0\n",
              "review_label            13035\n",
              "product_title               0\n",
              "mrp                         0\n",
              "price                       0\n",
              "product_rating              0\n",
              "product_rating_count        0\n",
              "product_tags            47782\n",
              "product_url                 0\n",
              "dtype: int64"
            ]
          },
          "metadata": {},
          "execution_count": 46
        }
      ]
    },
    {
      "cell_type": "code",
      "source": [
        "df[\"review_text\"].fillna(value=\"No Review\", inplace=True)"
      ],
      "metadata": {
        "id": "eEDd-n1Hx3q4"
      },
      "execution_count": null,
      "outputs": []
    },
    {
      "cell_type": "code",
      "source": [
        "df[\"review_rating\"].unique()"
      ],
      "metadata": {
        "colab": {
          "base_uri": "https://localhost:8080/"
        },
        "id": "5jWRuUEN40gu",
        "outputId": "b96787c0-b759-448e-b962-0d4c78dbf3ca"
      },
      "execution_count": null,
      "outputs": [
        {
          "output_type": "execute_result",
          "data": {
            "text/plain": [
              "array([ 5.,  4.,  3.,  2.,  1., nan])"
            ]
          },
          "metadata": {},
          "execution_count": 48
        }
      ]
    },
    {
      "cell_type": "code",
      "source": [
        "df[\"review_rating\"].dropna(inplace=True)"
      ],
      "metadata": {
        "id": "6hmM5y_AykLD"
      },
      "execution_count": null,
      "outputs": []
    },
    {
      "cell_type": "code",
      "source": [
        "df[\"review_label\"].unique()"
      ],
      "metadata": {
        "colab": {
          "base_uri": "https://localhost:8080/"
        },
        "id": "PtuHU1cd5GMH",
        "outputId": "edad557a-0dc3-448e-cdff-66e1bba7b80d"
      },
      "execution_count": null,
      "outputs": [
        {
          "output_type": "execute_result",
          "data": {
            "text/plain": [
              "array(['Verified Buyer', nan, 'Verified Professional'], dtype=object)"
            ]
          },
          "metadata": {},
          "execution_count": 50
        }
      ]
    },
    {
      "cell_type": "code",
      "source": [
        "df[\"review_label\"].fillna(value=\"Not Verified Buyer\",inplace=True)"
      ],
      "metadata": {
        "id": "1Jnpst-zy0I9"
      },
      "execution_count": null,
      "outputs": []
    },
    {
      "cell_type": "code",
      "source": [
        "df[\"product_tags\"].unique()"
      ],
      "metadata": {
        "colab": {
          "base_uri": "https://localhost:8080/"
        },
        "id": "lhMZfulG4XEs",
        "outputId": "2cdbc400-77be-4826-df12-88d2ca6c23a7"
      },
      "execution_count": null,
      "outputs": [
        {
          "output_type": "execute_result",
          "data": {
            "text/plain": [
              "array([nan, 'FEATURED', 'BESTSELLER', 'FEATURED, BESTSELLER', 'NEW',\n",
              "       'FEATURED, NEW'], dtype=object)"
            ]
          },
          "metadata": {},
          "execution_count": 52
        }
      ]
    },
    {
      "cell_type": "code",
      "source": [
        "df[\"product_tags\"].fillna(value=\"Missing\",inplace=True)"
      ],
      "metadata": {
        "id": "eo2_6piG4sNS"
      },
      "execution_count": null,
      "outputs": []
    },
    {
      "cell_type": "code",
      "source": [
        "df.isnull().sum()"
      ],
      "metadata": {
        "colab": {
          "base_uri": "https://localhost:8080/"
        },
        "id": "pl6Yd_TN5csx",
        "outputId": "662db8f2-bfef-49c8-cced-13f791a1b70b"
      },
      "execution_count": null,
      "outputs": [
        {
          "output_type": "execute_result",
          "data": {
            "text/plain": [
              "product_id              0\n",
              "brand_name              0\n",
              "review_id               0\n",
              "review_title            3\n",
              "review_text             0\n",
              "author                  0\n",
              "review_date             0\n",
              "review_rating           1\n",
              "is_a_buyer              0\n",
              "pro_user                0\n",
              "review_label            0\n",
              "product_title           0\n",
              "mrp                     0\n",
              "price                   0\n",
              "product_rating          0\n",
              "product_rating_count    0\n",
              "product_tags            0\n",
              "product_url             0\n",
              "dtype: int64"
            ]
          },
          "metadata": {},
          "execution_count": 54
        }
      ]
    },
    {
      "cell_type": "code",
      "source": [
        "df[\"review_title\"].unique()"
      ],
      "metadata": {
        "colab": {
          "base_uri": "https://localhost:8080/"
        },
        "id": "kdTNkijdMktx",
        "outputId": "508e3ebc-7831-42a4-fcee-be3af92af471"
      },
      "execution_count": null,
      "outputs": [
        {
          "output_type": "execute_result",
          "data": {
            "text/plain": [
              "array(['Worth buying 50g one', 'Best cream to start ur day',\n",
              "       'perfect for summers dry for winters', ...,\n",
              "       'Natural Chemical free Shampoo', 'It is a good one!',\n",
              "       'Really mild and nice'], dtype=object)"
            ]
          },
          "metadata": {},
          "execution_count": 55
        }
      ]
    },
    {
      "cell_type": "code",
      "source": [
        "df[\"review_title\"].fillna(value=\"Missing\",inplace=True)"
      ],
      "metadata": {
        "id": "HOIYTB1WMkqI"
      },
      "execution_count": null,
      "outputs": []
    },
    {
      "cell_type": "code",
      "source": [
        "\n",
        "df[\"review_rating\"].unique()"
      ],
      "metadata": {
        "colab": {
          "base_uri": "https://localhost:8080/"
        },
        "id": "MrOY4Q6jM5Fl",
        "outputId": "27ddac92-b517-4c96-e054-120c5d3fb599"
      },
      "execution_count": null,
      "outputs": [
        {
          "output_type": "execute_result",
          "data": {
            "text/plain": [
              "array([ 5.,  4.,  3.,  2.,  1., nan])"
            ]
          },
          "metadata": {},
          "execution_count": 57
        }
      ]
    },
    {
      "cell_type": "code",
      "source": [
        "df[\"review_rating\"].dropna(axis=0)"
      ],
      "metadata": {
        "colab": {
          "base_uri": "https://localhost:8080/"
        },
        "id": "uArRCCipOdav",
        "outputId": "a21baf11-c68b-432a-c3e1-73108cc3c691"
      },
      "execution_count": null,
      "outputs": [
        {
          "output_type": "execute_result",
          "data": {
            "text/plain": [
              "0        5.0\n",
              "1        5.0\n",
              "2        4.0\n",
              "3        3.0\n",
              "4        2.0\n",
              "        ... \n",
              "61279    5.0\n",
              "61280    5.0\n",
              "61281    5.0\n",
              "61282    5.0\n",
              "61283    2.0\n",
              "Name: review_rating, Length: 61283, dtype: float64"
            ]
          },
          "metadata": {},
          "execution_count": 58
        }
      ]
    },
    {
      "cell_type": "code",
      "source": [
        "df[\"review_rating\"].unique()"
      ],
      "metadata": {
        "colab": {
          "base_uri": "https://localhost:8080/"
        },
        "id": "pmyv41W9OdX4",
        "outputId": "5bf3a8b7-68e9-4d34-9027-8d28aa57b010"
      },
      "execution_count": null,
      "outputs": [
        {
          "output_type": "execute_result",
          "data": {
            "text/plain": [
              "array([ 5.,  4.,  3.,  2.,  1., nan])"
            ]
          },
          "metadata": {},
          "execution_count": 59
        }
      ]
    },
    {
      "cell_type": "code",
      "source": [
        "df.isnull().sum()"
      ],
      "metadata": {
        "colab": {
          "base_uri": "https://localhost:8080/"
        },
        "id": "KEYTSRUSM5Cv",
        "outputId": "2f0f3138-06a7-409a-f206-c2890f7d3c50"
      },
      "execution_count": null,
      "outputs": [
        {
          "output_type": "execute_result",
          "data": {
            "text/plain": [
              "product_id              0\n",
              "brand_name              0\n",
              "review_id               0\n",
              "review_title            0\n",
              "review_text             0\n",
              "author                  0\n",
              "review_date             0\n",
              "review_rating           1\n",
              "is_a_buyer              0\n",
              "pro_user                0\n",
              "review_label            0\n",
              "product_title           0\n",
              "mrp                     0\n",
              "price                   0\n",
              "product_rating          0\n",
              "product_rating_count    0\n",
              "product_tags            0\n",
              "product_url             0\n",
              "dtype: int64"
            ]
          },
          "metadata": {},
          "execution_count": 60
        }
      ]
    },
    {
      "cell_type": "code",
      "source": [
        "df = df.dropna()"
      ],
      "metadata": {
        "id": "olMb45VcM5AG"
      },
      "execution_count": null,
      "outputs": []
    },
    {
      "cell_type": "code",
      "source": [
        "df.isnull().sum()"
      ],
      "metadata": {
        "colab": {
          "base_uri": "https://localhost:8080/"
        },
        "id": "ei3BUdCyM49Q",
        "outputId": "d8eb4e6f-d502-479c-ca47-fdbca430062a"
      },
      "execution_count": null,
      "outputs": [
        {
          "output_type": "execute_result",
          "data": {
            "text/plain": [
              "product_id              0\n",
              "brand_name              0\n",
              "review_id               0\n",
              "review_title            0\n",
              "review_text             0\n",
              "author                  0\n",
              "review_date             0\n",
              "review_rating           0\n",
              "is_a_buyer              0\n",
              "pro_user                0\n",
              "review_label            0\n",
              "product_title           0\n",
              "mrp                     0\n",
              "price                   0\n",
              "product_rating          0\n",
              "product_rating_count    0\n",
              "product_tags            0\n",
              "product_url             0\n",
              "dtype: int64"
            ]
          },
          "metadata": {},
          "execution_count": 62
        }
      ]
    },
    {
      "cell_type": "code",
      "source": [
        "df[\"review_rating\"].unique()"
      ],
      "metadata": {
        "colab": {
          "base_uri": "https://localhost:8080/"
        },
        "id": "ilK9E3n4M46c",
        "outputId": "17ed3162-6c6b-4e0e-b559-4aa1cfeda985"
      },
      "execution_count": null,
      "outputs": [
        {
          "output_type": "execute_result",
          "data": {
            "text/plain": [
              "array([5., 4., 3., 2., 1.])"
            ]
          },
          "metadata": {},
          "execution_count": 63
        }
      ]
    },
    {
      "cell_type": "code",
      "source": [
        "df.head()"
      ],
      "metadata": {
        "colab": {
          "base_uri": "https://localhost:8080/",
          "height": 523
        },
        "id": "vkGqtTOkM43c",
        "outputId": "090304f5-646a-4f00-f092-3a96a7528106"
      },
      "execution_count": null,
      "outputs": [
        {
          "output_type": "execute_result",
          "data": {
            "text/plain": [
              "   product_id brand_name  review_id                         review_title  \\\n",
              "0      781070       Olay   16752142                 Worth buying 50g one   \n",
              "1      781070       Olay   14682550           Best cream to start ur day   \n",
              "2      781070       Olay   15618995  perfect for summers dry for winters   \n",
              "3      781070       Olay   13474509                    Not a moisturizer   \n",
              "4      781070       Olay   16338982                              Average   \n",
              "\n",
              "                                         review_text          author  \\\n",
              "0  Works as it claims. Could see the difference f...   Ashton Dsouza   \n",
              "1  It does what it claims . Best thing is it smoo...    Amrit Neelam   \n",
              "2  I have been using this product for months now....    Sanchi Gupta   \n",
              "3  i have an oily skin, while this whip acts as a...      Ruchi Shah   \n",
              "4  It's not that good. Please refresh try for oth...  Sukanya Sarkar   \n",
              "\n",
              "          review_date  review_rating  is_a_buyer  pro_user    review_label  \\\n",
              "0 2021-01-23 15:17:18            5.0        True     False  Verified Buyer   \n",
              "1 2020-09-07 15:30:42            5.0        True     False  Verified Buyer   \n",
              "2 2020-11-13 12:24:14            4.0        True     False  Verified Buyer   \n",
              "3 2020-06-14 11:56:50            3.0        True     False  Verified Buyer   \n",
              "4 2020-12-22 15:24:35            2.0        True     False  Verified Buyer   \n",
              "\n",
              "                                       product_title   mrp  price  \\\n",
              "0  Olay Ultra Lightweight Moisturiser: Luminous W...  1999   1599   \n",
              "1  Olay Ultra Lightweight Moisturiser: Luminous W...  1999   1599   \n",
              "2  Olay Ultra Lightweight Moisturiser: Luminous W...  1999   1599   \n",
              "3  Olay Ultra Lightweight Moisturiser: Luminous W...  1999   1599   \n",
              "4  Olay Ultra Lightweight Moisturiser: Luminous W...  1999   1599   \n",
              "\n",
              "   product_rating  product_rating_count product_tags  \\\n",
              "0             4.1                    43      Missing   \n",
              "1             4.1                    43      Missing   \n",
              "2             4.1                    43      Missing   \n",
              "3             4.1                    43      Missing   \n",
              "4             4.1                    43      Missing   \n",
              "\n",
              "                                         product_url  \n",
              "0  https://www.nykaa.com/olay-ultra-lightweight-m...  \n",
              "1  https://www.nykaa.com/olay-ultra-lightweight-m...  \n",
              "2  https://www.nykaa.com/olay-ultra-lightweight-m...  \n",
              "3  https://www.nykaa.com/olay-ultra-lightweight-m...  \n",
              "4  https://www.nykaa.com/olay-ultra-lightweight-m...  "
            ],
            "text/html": [
              "\n",
              "  <div id=\"df-77f1d4f3-340d-4a7e-ab21-4681b26dcb36\">\n",
              "    <div class=\"colab-df-container\">\n",
              "      <div>\n",
              "<style scoped>\n",
              "    .dataframe tbody tr th:only-of-type {\n",
              "        vertical-align: middle;\n",
              "    }\n",
              "\n",
              "    .dataframe tbody tr th {\n",
              "        vertical-align: top;\n",
              "    }\n",
              "\n",
              "    .dataframe thead th {\n",
              "        text-align: right;\n",
              "    }\n",
              "</style>\n",
              "<table border=\"1\" class=\"dataframe\">\n",
              "  <thead>\n",
              "    <tr style=\"text-align: right;\">\n",
              "      <th></th>\n",
              "      <th>product_id</th>\n",
              "      <th>brand_name</th>\n",
              "      <th>review_id</th>\n",
              "      <th>review_title</th>\n",
              "      <th>review_text</th>\n",
              "      <th>author</th>\n",
              "      <th>review_date</th>\n",
              "      <th>review_rating</th>\n",
              "      <th>is_a_buyer</th>\n",
              "      <th>pro_user</th>\n",
              "      <th>review_label</th>\n",
              "      <th>product_title</th>\n",
              "      <th>mrp</th>\n",
              "      <th>price</th>\n",
              "      <th>product_rating</th>\n",
              "      <th>product_rating_count</th>\n",
              "      <th>product_tags</th>\n",
              "      <th>product_url</th>\n",
              "    </tr>\n",
              "  </thead>\n",
              "  <tbody>\n",
              "    <tr>\n",
              "      <th>0</th>\n",
              "      <td>781070</td>\n",
              "      <td>Olay</td>\n",
              "      <td>16752142</td>\n",
              "      <td>Worth buying 50g one</td>\n",
              "      <td>Works as it claims. Could see the difference f...</td>\n",
              "      <td>Ashton Dsouza</td>\n",
              "      <td>2021-01-23 15:17:18</td>\n",
              "      <td>5.0</td>\n",
              "      <td>True</td>\n",
              "      <td>False</td>\n",
              "      <td>Verified Buyer</td>\n",
              "      <td>Olay Ultra Lightweight Moisturiser: Luminous W...</td>\n",
              "      <td>1999</td>\n",
              "      <td>1599</td>\n",
              "      <td>4.1</td>\n",
              "      <td>43</td>\n",
              "      <td>Missing</td>\n",
              "      <td>https://www.nykaa.com/olay-ultra-lightweight-m...</td>\n",
              "    </tr>\n",
              "    <tr>\n",
              "      <th>1</th>\n",
              "      <td>781070</td>\n",
              "      <td>Olay</td>\n",
              "      <td>14682550</td>\n",
              "      <td>Best cream to start ur day</td>\n",
              "      <td>It does what it claims . Best thing is it smoo...</td>\n",
              "      <td>Amrit Neelam</td>\n",
              "      <td>2020-09-07 15:30:42</td>\n",
              "      <td>5.0</td>\n",
              "      <td>True</td>\n",
              "      <td>False</td>\n",
              "      <td>Verified Buyer</td>\n",
              "      <td>Olay Ultra Lightweight Moisturiser: Luminous W...</td>\n",
              "      <td>1999</td>\n",
              "      <td>1599</td>\n",
              "      <td>4.1</td>\n",
              "      <td>43</td>\n",
              "      <td>Missing</td>\n",
              "      <td>https://www.nykaa.com/olay-ultra-lightweight-m...</td>\n",
              "    </tr>\n",
              "    <tr>\n",
              "      <th>2</th>\n",
              "      <td>781070</td>\n",
              "      <td>Olay</td>\n",
              "      <td>15618995</td>\n",
              "      <td>perfect for summers dry for winters</td>\n",
              "      <td>I have been using this product for months now....</td>\n",
              "      <td>Sanchi Gupta</td>\n",
              "      <td>2020-11-13 12:24:14</td>\n",
              "      <td>4.0</td>\n",
              "      <td>True</td>\n",
              "      <td>False</td>\n",
              "      <td>Verified Buyer</td>\n",
              "      <td>Olay Ultra Lightweight Moisturiser: Luminous W...</td>\n",
              "      <td>1999</td>\n",
              "      <td>1599</td>\n",
              "      <td>4.1</td>\n",
              "      <td>43</td>\n",
              "      <td>Missing</td>\n",
              "      <td>https://www.nykaa.com/olay-ultra-lightweight-m...</td>\n",
              "    </tr>\n",
              "    <tr>\n",
              "      <th>3</th>\n",
              "      <td>781070</td>\n",
              "      <td>Olay</td>\n",
              "      <td>13474509</td>\n",
              "      <td>Not a moisturizer</td>\n",
              "      <td>i have an oily skin, while this whip acts as a...</td>\n",
              "      <td>Ruchi Shah</td>\n",
              "      <td>2020-06-14 11:56:50</td>\n",
              "      <td>3.0</td>\n",
              "      <td>True</td>\n",
              "      <td>False</td>\n",
              "      <td>Verified Buyer</td>\n",
              "      <td>Olay Ultra Lightweight Moisturiser: Luminous W...</td>\n",
              "      <td>1999</td>\n",
              "      <td>1599</td>\n",
              "      <td>4.1</td>\n",
              "      <td>43</td>\n",
              "      <td>Missing</td>\n",
              "      <td>https://www.nykaa.com/olay-ultra-lightweight-m...</td>\n",
              "    </tr>\n",
              "    <tr>\n",
              "      <th>4</th>\n",
              "      <td>781070</td>\n",
              "      <td>Olay</td>\n",
              "      <td>16338982</td>\n",
              "      <td>Average</td>\n",
              "      <td>It's not that good. Please refresh try for oth...</td>\n",
              "      <td>Sukanya Sarkar</td>\n",
              "      <td>2020-12-22 15:24:35</td>\n",
              "      <td>2.0</td>\n",
              "      <td>True</td>\n",
              "      <td>False</td>\n",
              "      <td>Verified Buyer</td>\n",
              "      <td>Olay Ultra Lightweight Moisturiser: Luminous W...</td>\n",
              "      <td>1999</td>\n",
              "      <td>1599</td>\n",
              "      <td>4.1</td>\n",
              "      <td>43</td>\n",
              "      <td>Missing</td>\n",
              "      <td>https://www.nykaa.com/olay-ultra-lightweight-m...</td>\n",
              "    </tr>\n",
              "  </tbody>\n",
              "</table>\n",
              "</div>\n",
              "      <button class=\"colab-df-convert\" onclick=\"convertToInteractive('df-77f1d4f3-340d-4a7e-ab21-4681b26dcb36')\"\n",
              "              title=\"Convert this dataframe to an interactive table.\"\n",
              "              style=\"display:none;\">\n",
              "        \n",
              "  <svg xmlns=\"http://www.w3.org/2000/svg\" height=\"24px\"viewBox=\"0 0 24 24\"\n",
              "       width=\"24px\">\n",
              "    <path d=\"M0 0h24v24H0V0z\" fill=\"none\"/>\n",
              "    <path d=\"M18.56 5.44l.94 2.06.94-2.06 2.06-.94-2.06-.94-.94-2.06-.94 2.06-2.06.94zm-11 1L8.5 8.5l.94-2.06 2.06-.94-2.06-.94L8.5 2.5l-.94 2.06-2.06.94zm10 10l.94 2.06.94-2.06 2.06-.94-2.06-.94-.94-2.06-.94 2.06-2.06.94z\"/><path d=\"M17.41 7.96l-1.37-1.37c-.4-.4-.92-.59-1.43-.59-.52 0-1.04.2-1.43.59L10.3 9.45l-7.72 7.72c-.78.78-.78 2.05 0 2.83L4 21.41c.39.39.9.59 1.41.59.51 0 1.02-.2 1.41-.59l7.78-7.78 2.81-2.81c.8-.78.8-2.07 0-2.86zM5.41 20L4 18.59l7.72-7.72 1.47 1.35L5.41 20z\"/>\n",
              "  </svg>\n",
              "      </button>\n",
              "      \n",
              "  <style>\n",
              "    .colab-df-container {\n",
              "      display:flex;\n",
              "      flex-wrap:wrap;\n",
              "      gap: 12px;\n",
              "    }\n",
              "\n",
              "    .colab-df-convert {\n",
              "      background-color: #E8F0FE;\n",
              "      border: none;\n",
              "      border-radius: 50%;\n",
              "      cursor: pointer;\n",
              "      display: none;\n",
              "      fill: #1967D2;\n",
              "      height: 32px;\n",
              "      padding: 0 0 0 0;\n",
              "      width: 32px;\n",
              "    }\n",
              "\n",
              "    .colab-df-convert:hover {\n",
              "      background-color: #E2EBFA;\n",
              "      box-shadow: 0px 1px 2px rgba(60, 64, 67, 0.3), 0px 1px 3px 1px rgba(60, 64, 67, 0.15);\n",
              "      fill: #174EA6;\n",
              "    }\n",
              "\n",
              "    [theme=dark] .colab-df-convert {\n",
              "      background-color: #3B4455;\n",
              "      fill: #D2E3FC;\n",
              "    }\n",
              "\n",
              "    [theme=dark] .colab-df-convert:hover {\n",
              "      background-color: #434B5C;\n",
              "      box-shadow: 0px 1px 3px 1px rgba(0, 0, 0, 0.15);\n",
              "      filter: drop-shadow(0px 1px 2px rgba(0, 0, 0, 0.3));\n",
              "      fill: #FFFFFF;\n",
              "    }\n",
              "  </style>\n",
              "\n",
              "      <script>\n",
              "        const buttonEl =\n",
              "          document.querySelector('#df-77f1d4f3-340d-4a7e-ab21-4681b26dcb36 button.colab-df-convert');\n",
              "        buttonEl.style.display =\n",
              "          google.colab.kernel.accessAllowed ? 'block' : 'none';\n",
              "\n",
              "        async function convertToInteractive(key) {\n",
              "          const element = document.querySelector('#df-77f1d4f3-340d-4a7e-ab21-4681b26dcb36');\n",
              "          const dataTable =\n",
              "            await google.colab.kernel.invokeFunction('convertToInteractive',\n",
              "                                                     [key], {});\n",
              "          if (!dataTable) return;\n",
              "\n",
              "          const docLinkHtml = 'Like what you see? Visit the ' +\n",
              "            '<a target=\"_blank\" href=https://colab.research.google.com/notebooks/data_table.ipynb>data table notebook</a>'\n",
              "            + ' to learn more about interactive tables.';\n",
              "          element.innerHTML = '';\n",
              "          dataTable['output_type'] = 'display_data';\n",
              "          await google.colab.output.renderOutput(dataTable, element);\n",
              "          const docLink = document.createElement('div');\n",
              "          docLink.innerHTML = docLinkHtml;\n",
              "          element.appendChild(docLink);\n",
              "        }\n",
              "      </script>\n",
              "    </div>\n",
              "  </div>\n",
              "  "
            ]
          },
          "metadata": {},
          "execution_count": 64
        }
      ]
    },
    {
      "cell_type": "code",
      "source": [
        "plt.figure(figsize=(8,10))\n",
        "sns.histplot(df['review_rating'])"
      ],
      "metadata": {
        "colab": {
          "base_uri": "https://localhost:8080/",
          "height": 623
        },
        "id": "XKWWL7LMQZ_y",
        "outputId": "66142fd5-fe88-4fdb-f049-10c94153565b"
      },
      "execution_count": null,
      "outputs": [
        {
          "output_type": "execute_result",
          "data": {
            "text/plain": [
              "<Figure size 576x720 with 0 Axes>"
            ]
          },
          "metadata": {},
          "execution_count": 65
        },
        {
          "output_type": "execute_result",
          "data": {
            "text/plain": [
              "<matplotlib.axes._subplots.AxesSubplot at 0x7f2c82363550>"
            ]
          },
          "metadata": {},
          "execution_count": 65
        },
        {
          "output_type": "display_data",
          "data": {
            "text/plain": [
              "<Figure size 576x720 with 1 Axes>"
            ],
            "image/png": "[encoded data removed]"
          },
          "metadata": {
            "needs_background": "light"
          }
        }
      ]
    },
    {
      "cell_type": "markdown",
      "source": [
        "This plot explains clearly that 5 star rating was given by most users."
      ],
      "metadata": {
        "id": "ivFNDWgkCLy_"
      }
    },
    {
      "cell_type": "code",
      "source": [
        "sns.countplot(x='review_label', data=df)"
      ],
      "metadata": {
        "colab": {
          "base_uri": "https://localhost:8080/",
          "height": 300
        },
        "id": "fRbe6R5iQZ5e",
        "outputId": "8a7c5b95-036f-4511-f0d6-b1d4dc1aec4d"
      },
      "execution_count": null,
      "outputs": [
        {
          "output_type": "execute_result",
          "data": {
            "text/plain": [
              "<matplotlib.axes._subplots.AxesSubplot at 0x7f2c81f0c520>"
            ]
          },
          "metadata": {},
          "execution_count": 67
        },
        {
          "output_type": "display_data",
          "data": {
            "text/plain": [
              "<Figure size 432x288 with 1 Axes>"
            ],
            "image/png": "[encoded data removed]"
          },
          "metadata": {
            "needs_background": "light"
          }
        }
      ]
    },
    {
      "cell_type": "markdown",
      "source": [
        "Out of the reviews given by the users most are verified buyers of the product and least are the verified professionals."
      ],
      "metadata": {
        "id": "KThKEhKQB8qy"
      }
    },
    {
      "cell_type": "code",
      "source": [
        "plt.figure(figsize=(25,20))\n",
        "sns.barplot(x='brand_name',y='review_rating', data=df)\n"
      ],
      "metadata": {
        "colab": {
          "base_uri": "https://localhost:8080/",
          "height": 880
        },
        "id": "SQbqioHYQZ8x",
        "outputId": "d6e29733-a313-4d6c-bf9f-364eb4f6dd1e"
      },
      "execution_count": null,
      "outputs": [
        {
          "output_type": "execute_result",
          "data": {
            "text/plain": [
              "<Figure size 1800x1440 with 0 Axes>"
            ]
          },
          "metadata": {},
          "execution_count": 66
        },
        {
          "output_type": "execute_result",
          "data": {
            "text/plain": [
              "<matplotlib.axes._subplots.AxesSubplot at 0x7f2c7a2a9070>"
            ]
          },
          "metadata": {},
          "execution_count": 66
        },
        {
          "output_type": "display_data",
          "data": {
            "text/plain": [
              "<Figure size 1800x1440 with 1 Axes>"
            ],
            "image/png": "[encoded data removed]"
          },
          "metadata": {
            "needs_background": "light"
          }
        }
      ]
    },
    {
      "cell_type": "markdown",
      "source": [
        "Maximum review rating is given to the brand Kay Beauty"
      ],
      "metadata": {
        "id": "61Jk6bm1BzZa"
      }
    },
    {
      "cell_type": "code",
      "source": [
        "sns.countplot(x='review_rating', data=df)"
      ],
      "metadata": {
        "colab": {
          "base_uri": "https://localhost:8080/",
          "height": 297
        },
        "id": "861V2YqOQZ3G",
        "outputId": "93b1cca8-0987-4c57-d5ef-a21e8e9bc9d4"
      },
      "execution_count": null,
      "outputs": [
        {
          "output_type": "execute_result",
          "data": {
            "text/plain": [
              "<matplotlib.axes._subplots.AxesSubplot at 0x7f2c17fce4f0>"
            ]
          },
          "metadata": {},
          "execution_count": 78
        },
        {
          "output_type": "display_data",
          "data": {
            "text/plain": [
              "<Figure size 432x288 with 1 Axes>"
            ],
            "image/png": "[encoded data removed]"
          },
          "metadata": {
            "needs_background": "light"
          }
        }
      ]
    },
    {
      "cell_type": "markdown",
      "source": [
        "This shows that users have given 5 star rating the most while reviewing the products.\n"
      ],
      "metadata": {
        "id": "rG7B4nwNAZgL"
      }
    },
    {
      "cell_type": "code",
      "source": [
        "plt.figure(figsize=(25,20))\n",
        "sns.boxplot(x=df['brand_name'], y=df['price'])"
      ],
      "metadata": {
        "colab": {
          "base_uri": "https://localhost:8080/",
          "height": 1000
        },
        "id": "S9M6C_JBZNl4",
        "outputId": "03ea078d-370f-4f9f-af76-77c3ecb51e65"
      },
      "execution_count": null,
      "outputs": [
        {
          "output_type": "execute_result",
          "data": {
            "text/plain": [
              "<Figure size 1800x1440 with 0 Axes>"
            ]
          },
          "metadata": {},
          "execution_count": 77
        },
        {
          "output_type": "execute_result",
          "data": {
            "text/plain": [
              "<matplotlib.axes._subplots.AxesSubplot at 0x7f2c81410a90>"
            ]
          },
          "metadata": {},
          "execution_count": 77
        },
        {
          "output_type": "display_data",
          "data": {
            "text/plain": [
              "<Figure size 1800x1440 with 1 Axes>"
            ],
            "image/png": "[encoded data removed]"
          },
          "metadata": {
            "needs_background": "light"
          }
        }
      ]
    },
    {
      "cell_type": "markdown",
      "source": [
        "This implies that brand Olay has the maximum price level having its minimum price more than 500 and maximum around 1500."
      ],
      "metadata": {
        "id": "BP7V8bBqA91K"
      }
    },
    {
      "cell_type": "code",
      "source": [
        "plt.figure(figsize=(25,20))\n",
        "sns.barplot(df[\"brand_name\"],df[\"product_rating_count\"])"
      ],
      "metadata": {
        "colab": {
          "base_uri": "https://localhost:8080/",
          "height": 920
        },
        "id": "2Tgl1kTyQZ0x",
        "outputId": "13503af0-d2a9-458e-a81d-2cdb9684ad3c"
      },
      "execution_count": null,
      "outputs": [
        {
          "output_type": "execute_result",
          "data": {
            "text/plain": [
              "<Figure size 1800x1440 with 0 Axes>"
            ]
          },
          "metadata": {},
          "execution_count": 72
        },
        {
          "output_type": "stream",
          "name": "stderr",
          "text": [
            "/usr/local/lib/python3.8/dist-packages/seaborn/_decorators.py:36: FutureWarning: Pass the following variables as keyword args: x, y. From version 0.12, the only valid positional argument will be `data`, and passing other arguments without an explicit keyword will result in an error or misinterpretation.\n",
            "  warnings.warn(\n"
          ]
        },
        {
          "output_type": "execute_result",
          "data": {
            "text/plain": [
              "<matplotlib.axes._subplots.AxesSubplot at 0x7f2ca63994c0>"
            ]
          },
          "metadata": {},
          "execution_count": 72
        },
        {
          "output_type": "display_data",
          "data": {
            "text/plain": [
              "<Figure size 1800x1440 with 1 Axes>"
            ],
            "image/png": "[encoded data removed]"
          },
          "metadata": {
            "needs_background": "light"
          }
        }
      ]
    },
    {
      "cell_type": "markdown",
      "source": [
        "This plot explains that brand Nykaa Cosmetics was reviewd by most most people as it has the highest product rating count."
      ],
      "metadata": {
        "id": "aBCN4jazBRh0"
      }
    },
    {
      "cell_type": "code",
      "source": [
        "plt.figure(figsize=(25,20))\n",
        "sns.barplot(df[\"brand_name\"],df[\"price\"])"
      ],
      "metadata": {
        "colab": {
          "base_uri": "https://localhost:8080/",
          "height": 924
        },
        "id": "FjkbZGDKYmFr",
        "outputId": "1cf14de6-0e80-4919-d6c4-9435061e01bd"
      },
      "execution_count": null,
      "outputs": [
        {
          "output_type": "execute_result",
          "data": {
            "text/plain": [
              "<Figure size 1800x1440 with 0 Axes>"
            ]
          },
          "metadata": {},
          "execution_count": 73
        },
        {
          "output_type": "stream",
          "name": "stderr",
          "text": [
            "/usr/local/lib/python3.8/dist-packages/seaborn/_decorators.py:36: FutureWarning: Pass the following variables as keyword args: x, y. From version 0.12, the only valid positional argument will be `data`, and passing other arguments without an explicit keyword will result in an error or misinterpretation.\n",
            "  warnings.warn(\n"
          ]
        },
        {
          "output_type": "execute_result",
          "data": {
            "text/plain": [
              "<matplotlib.axes._subplots.AxesSubplot at 0x7f2c269f08e0>"
            ]
          },
          "metadata": {},
          "execution_count": 73
        },
        {
          "output_type": "display_data",
          "data": {
            "text/plain": [
              "<Figure size 1800x1440 with 1 Axes>"
            ],
            "image/png": "[encoded data removed]"
          },
          "metadata": {
            "needs_background": "light"
          }
        }
      ]
    },
    {
      "cell_type": "markdown",
      "source": [
        "This plot implies that brand Olay is the costliest and brand Nykaa Cosmetics is the cheapest in price."
      ],
      "metadata": {
        "id": "4K20W3mKBhJu"
      }
    },
    {
      "cell_type": "code",
      "source": [
        "df[\"Actual_price_diff\"]= df[\"mrp\"]-df[\"price\"]"
      ],
      "metadata": {
        "id": "s4WitT-GCZ4C"
      },
      "execution_count": null,
      "outputs": []
    },
    {
      "cell_type": "code",
      "source": [
        "df[\"Actual_price_diff\"]"
      ],
      "metadata": {
        "colab": {
          "base_uri": "https://localhost:8080/"
        },
        "id": "XFEMFVAHCsYm",
        "outputId": "f44e4b7d-e71a-468e-eef5-5699ab3cee2b"
      },
      "execution_count": null,
      "outputs": [
        {
          "output_type": "execute_result",
          "data": {
            "text/plain": [
              "0        400\n",
              "1        400\n",
              "2        400\n",
              "3        400\n",
              "4        400\n",
              "        ... \n",
              "61279    225\n",
              "61280    225\n",
              "61281    225\n",
              "61282    225\n",
              "61283    178\n",
              "Name: Actual_price_diff, Length: 61283, dtype: int64"
            ]
          },
          "metadata": {},
          "execution_count": 80
        }
      ]
    },
    {
      "cell_type": "code",
      "source": [
        "df.head()"
      ],
      "metadata": {
        "colab": {
          "base_uri": "https://localhost:8080/",
          "height": 523
        },
        "id": "Ni-7_7XVCsUs",
        "outputId": "d45ea00a-b57a-4570-a738-fb5a1fe12270"
      },
      "execution_count": null,
      "outputs": [
        {
          "output_type": "execute_result",
          "data": {
            "text/plain": [
              "   product_id brand_name  review_id                         review_title  \\\n",
              "0      781070       Olay   16752142                 Worth buying 50g one   \n",
              "1      781070       Olay   14682550           Best cream to start ur day   \n",
              "2      781070       Olay   15618995  perfect for summers dry for winters   \n",
              "3      781070       Olay   13474509                    Not a moisturizer   \n",
              "4      781070       Olay   16338982                              Average   \n",
              "\n",
              "                                         review_text          author  \\\n",
              "0  Works as it claims. Could see the difference f...   Ashton Dsouza   \n",
              "1  It does what it claims . Best thing is it smoo...    Amrit Neelam   \n",
              "2  I have been using this product for months now....    Sanchi Gupta   \n",
              "3  i have an oily skin, while this whip acts as a...      Ruchi Shah   \n",
              "4  It's not that good. Please refresh try for oth...  Sukanya Sarkar   \n",
              "\n",
              "          review_date  review_rating  is_a_buyer  pro_user    review_label  \\\n",
              "0 2021-01-23 15:17:18            5.0        True     False  Verified Buyer   \n",
              "1 2020-09-07 15:30:42            5.0        True     False  Verified Buyer   \n",
              "2 2020-11-13 12:24:14            4.0        True     False  Verified Buyer   \n",
              "3 2020-06-14 11:56:50            3.0        True     False  Verified Buyer   \n",
              "4 2020-12-22 15:24:35            2.0        True     False  Verified Buyer   \n",
              "\n",
              "                                       product_title   mrp  price  \\\n",
              "0  Olay Ultra Lightweight Moisturiser: Luminous W...  1999   1599   \n",
              "1  Olay Ultra Lightweight Moisturiser: Luminous W...  1999   1599   \n",
              "2  Olay Ultra Lightweight Moisturiser: Luminous W...  1999   1599   \n",
              "3  Olay Ultra Lightweight Moisturiser: Luminous W...  1999   1599   \n",
              "4  Olay Ultra Lightweight Moisturiser: Luminous W...  1999   1599   \n",
              "\n",
              "   product_rating  product_rating_count product_tags  \\\n",
              "0             4.1                    43      Missing   \n",
              "1             4.1                    43      Missing   \n",
              "2             4.1                    43      Missing   \n",
              "3             4.1                    43      Missing   \n",
              "4             4.1                    43      Missing   \n",
              "\n",
              "                                         product_url  Actual_price_diff  \n",
              "0  https://www.nykaa.com/olay-ultra-lightweight-m...                400  \n",
              "1  https://www.nykaa.com/olay-ultra-lightweight-m...                400  \n",
              "2  https://www.nykaa.com/olay-ultra-lightweight-m...                400  \n",
              "3  https://www.nykaa.com/olay-ultra-lightweight-m...                400  \n",
              "4  https://www.nykaa.com/olay-ultra-lightweight-m...                400  "
            ],
            "text/html": [
              "\n",
              "  <div id=\"df-1d65ade4-c87b-4dab-972c-77094a87eaca\">\n",
              "    <div class=\"colab-df-container\">\n",
              "      <div>\n",
              "<style scoped>\n",
              "    .dataframe tbody tr th:only-of-type {\n",
              "        vertical-align: middle;\n",
              "    }\n",
              "\n",
              "    .dataframe tbody tr th {\n",
              "        vertical-align: top;\n",
              "    }\n",
              "\n",
              "    .dataframe thead th {\n",
              "        text-align: right;\n",
              "    }\n",
              "</style>\n",
              "<table border=\"1\" class=\"dataframe\">\n",
              "  <thead>\n",
              "    <tr style=\"text-align: right;\">\n",
              "      <th></th>\n",
              "      <th>product_id</th>\n",
              "      <th>brand_name</th>\n",
              "      <th>review_id</th>\n",
              "      <th>review_title</th>\n",
              "      <th>review_text</th>\n",
              "      <th>author</th>\n",
              "      <th>review_date</th>\n",
              "      <th>review_rating</th>\n",
              "      <th>is_a_buyer</th>\n",
              "      <th>pro_user</th>\n",
              "      <th>review_label</th>\n",
              "      <th>product_title</th>\n",
              "      <th>mrp</th>\n",
              "      <th>price</th>\n",
              "      <th>product_rating</th>\n",
              "      <th>product_rating_count</th>\n",
              "      <th>product_tags</th>\n",
              "      <th>product_url</th>\n",
              "      <th>Actual_price_diff</th>\n",
              "    </tr>\n",
              "  </thead>\n",
              "  <tbody>\n",
              "    <tr>\n",
              "      <th>0</th>\n",
              "      <td>781070</td>\n",
              "      <td>Olay</td>\n",
              "      <td>16752142</td>\n",
              "      <td>Worth buying 50g one</td>\n",
              "      <td>Works as it claims. Could see the difference f...</td>\n",
              "      <td>Ashton Dsouza</td>\n",
              "      <td>2021-01-23 15:17:18</td>\n",
              "      <td>5.0</td>\n",
              "      <td>True</td>\n",
              "      <td>False</td>\n",
              "      <td>Verified Buyer</td>\n",
              "      <td>Olay Ultra Lightweight Moisturiser: Luminous W...</td>\n",
              "      <td>1999</td>\n",
              "      <td>1599</td>\n",
              "      <td>4.1</td>\n",
              "      <td>43</td>\n",
              "      <td>Missing</td>\n",
              "      <td>https://www.nykaa.com/olay-ultra-lightweight-m...</td>\n",
              "      <td>400</td>\n",
              "    </tr>\n",
              "    <tr>\n",
              "      <th>1</th>\n",
              "      <td>781070</td>\n",
              "      <td>Olay</td>\n",
              "      <td>14682550</td>\n",
              "      <td>Best cream to start ur day</td>\n",
              "      <td>It does what it claims . Best thing is it smoo...</td>\n",
              "      <td>Amrit Neelam</td>\n",
              "      <td>2020-09-07 15:30:42</td>\n",
              "      <td>5.0</td>\n",
              "      <td>True</td>\n",
              "      <td>False</td>\n",
              "      <td>Verified Buyer</td>\n",
              "      <td>Olay Ultra Lightweight Moisturiser: Luminous W...</td>\n",
              "      <td>1999</td>\n",
              "      <td>1599</td>\n",
              "      <td>4.1</td>\n",
              "      <td>43</td>\n",
              "      <td>Missing</td>\n",
              "      <td>https://www.nykaa.com/olay-ultra-lightweight-m...</td>\n",
              "      <td>400</td>\n",
              "    </tr>\n",
              "    <tr>\n",
              "      <th>2</th>\n",
              "      <td>781070</td>\n",
              "      <td>Olay</td>\n",
              "      <td>15618995</td>\n",
              "      <td>perfect for summers dry for winters</td>\n",
              "      <td>I have been using this product for months now....</td>\n",
              "      <td>Sanchi Gupta</td>\n",
              "      <td>2020-11-13 12:24:14</td>\n",
              "      <td>4.0</td>\n",
              "      <td>True</td>\n",
              "      <td>False</td>\n",
              "      <td>Verified Buyer</td>\n",
              "      <td>Olay Ultra Lightweight Moisturiser: Luminous W...</td>\n",
              "      <td>1999</td>\n",
              "      <td>1599</td>\n",
              "      <td>4.1</td>\n",
              "      <td>43</td>\n",
              "      <td>Missing</td>\n",
              "      <td>https://www.nykaa.com/olay-ultra-lightweight-m...</td>\n",
              "      <td>400</td>\n",
              "    </tr>\n",
              "    <tr>\n",
              "      <th>3</th>\n",
              "      <td>781070</td>\n",
              "      <td>Olay</td>\n",
              "      <td>13474509</td>\n",
              "      <td>Not a moisturizer</td>\n",
              "      <td>i have an oily skin, while this whip acts as a...</td>\n",
              "      <td>Ruchi Shah</td>\n",
              "      <td>2020-06-14 11:56:50</td>\n",
              "      <td>3.0</td>\n",
              "      <td>True</td>\n",
              "      <td>False</td>\n",
              "      <td>Verified Buyer</td>\n",
              "      <td>Olay Ultra Lightweight Moisturiser: Luminous W...</td>\n",
              "      <td>1999</td>\n",
              "      <td>1599</td>\n",
              "      <td>4.1</td>\n",
              "      <td>43</td>\n",
              "      <td>Missing</td>\n",
              "      <td>https://www.nykaa.com/olay-ultra-lightweight-m...</td>\n",
              "      <td>400</td>\n",
              "    </tr>\n",
              "    <tr>\n",
              "      <th>4</th>\n",
              "      <td>781070</td>\n",
              "      <td>Olay</td>\n",
              "      <td>16338982</td>\n",
              "      <td>Average</td>\n",
              "      <td>It's not that good. Please refresh try for oth...</td>\n",
              "      <td>Sukanya Sarkar</td>\n",
              "      <td>2020-12-22 15:24:35</td>\n",
              "      <td>2.0</td>\n",
              "      <td>True</td>\n",
              "      <td>False</td>\n",
              "      <td>Verified Buyer</td>\n",
              "      <td>Olay Ultra Lightweight Moisturiser: Luminous W...</td>\n",
              "      <td>1999</td>\n",
              "      <td>1599</td>\n",
              "      <td>4.1</td>\n",
              "      <td>43</td>\n",
              "      <td>Missing</td>\n",
              "      <td>https://www.nykaa.com/olay-ultra-lightweight-m...</td>\n",
              "      <td>400</td>\n",
              "    </tr>\n",
              "  </tbody>\n",
              "</table>\n",
              "</div>\n",
              "      <button class=\"colab-df-convert\" onclick=\"convertToInteractive('df-1d65ade4-c87b-4dab-972c-77094a87eaca')\"\n",
              "              title=\"Convert this dataframe to an interactive table.\"\n",
              "              style=\"display:none;\">\n",
              "        \n",
              "  <svg xmlns=\"http://www.w3.org/2000/svg\" height=\"24px\"viewBox=\"0 0 24 24\"\n",
              "       width=\"24px\">\n",
              "    <path d=\"M0 0h24v24H0V0z\" fill=\"none\"/>\n",
              "    <path d=\"M18.56 5.44l.94 2.06.94-2.06 2.06-.94-2.06-.94-.94-2.06-.94 2.06-2.06.94zm-11 1L8.5 8.5l.94-2.06 2.06-.94-2.06-.94L8.5 2.5l-.94 2.06-2.06.94zm10 10l.94 2.06.94-2.06 2.06-.94-2.06-.94-.94-2.06-.94 2.06-2.06.94z\"/><path d=\"M17.41 7.96l-1.37-1.37c-.4-.4-.92-.59-1.43-.59-.52 0-1.04.2-1.43.59L10.3 9.45l-7.72 7.72c-.78.78-.78 2.05 0 2.83L4 21.41c.39.39.9.59 1.41.59.51 0 1.02-.2 1.41-.59l7.78-7.78 2.81-2.81c.8-.78.8-2.07 0-2.86zM5.41 20L4 18.59l7.72-7.72 1.47 1.35L5.41 20z\"/>\n",
              "  </svg>\n",
              "      </button>\n",
              "      \n",
              "  <style>\n",
              "    .colab-df-container {\n",
              "      display:flex;\n",
              "      flex-wrap:wrap;\n",
              "      gap: 12px;\n",
              "    }\n",
              "\n",
              "    .colab-df-convert {\n",
              "      background-color: #E8F0FE;\n",
              "      border: none;\n",
              "      border-radius: 50%;\n",
              "      cursor: pointer;\n",
              "      display: none;\n",
              "      fill: #1967D2;\n",
              "      height: 32px;\n",
              "      padding: 0 0 0 0;\n",
              "      width: 32px;\n",
              "    }\n",
              "\n",
              "    .colab-df-convert:hover {\n",
              "      background-color: #E2EBFA;\n",
              "      box-shadow: 0px 1px 2px rgba(60, 64, 67, 0.3), 0px 1px 3px 1px rgba(60, 64, 67, 0.15);\n",
              "      fill: #174EA6;\n",
              "    }\n",
              "\n",
              "    [theme=dark] .colab-df-convert {\n",
              "      background-color: #3B4455;\n",
              "      fill: #D2E3FC;\n",
              "    }\n",
              "\n",
              "    [theme=dark] .colab-df-convert:hover {\n",
              "      background-color: #434B5C;\n",
              "      box-shadow: 0px 1px 3px 1px rgba(0, 0, 0, 0.15);\n",
              "      filter: drop-shadow(0px 1px 2px rgba(0, 0, 0, 0.3));\n",
              "      fill: #FFFFFF;\n",
              "    }\n",
              "  </style>\n",
              "\n",
              "      <script>\n",
              "        const buttonEl =\n",
              "          document.querySelector('#df-1d65ade4-c87b-4dab-972c-77094a87eaca button.colab-df-convert');\n",
              "        buttonEl.style.display =\n",
              "          google.colab.kernel.accessAllowed ? 'block' : 'none';\n",
              "\n",
              "        async function convertToInteractive(key) {\n",
              "          const element = document.querySelector('#df-1d65ade4-c87b-4dab-972c-77094a87eaca');\n",
              "          const dataTable =\n",
              "            await google.colab.kernel.invokeFunction('convertToInteractive',\n",
              "                                                     [key], {});\n",
              "          if (!dataTable) return;\n",
              "\n",
              "          const docLinkHtml = 'Like what you see? Visit the ' +\n",
              "            '<a target=\"_blank\" href=https://colab.research.google.com/notebooks/data_table.ipynb>data table notebook</a>'\n",
              "            + ' to learn more about interactive tables.';\n",
              "          element.innerHTML = '';\n",
              "          dataTable['output_type'] = 'display_data';\n",
              "          await google.colab.output.renderOutput(dataTable, element);\n",
              "          const docLink = document.createElement('div');\n",
              "          docLink.innerHTML = docLinkHtml;\n",
              "          element.appendChild(docLink);\n",
              "        }\n",
              "      </script>\n",
              "    </div>\n",
              "  </div>\n",
              "  "
            ]
          },
          "metadata": {},
          "execution_count": 81
        }
      ]
    },
    {
      "cell_type": "code",
      "source": [
        "plt.figure(figsize=(25,20))\n",
        "sns.barplot(df[\"brand_name\"],df[\"Actual_price_diff\"])"
      ],
      "metadata": {
        "colab": {
          "base_uri": "https://localhost:8080/",
          "height": 943
        },
        "id": "Qn1JnTqZCsRE",
        "outputId": "787ae250-3c7a-48ff-e875-28d075f1cb0d"
      },
      "execution_count": null,
      "outputs": [
        {
          "output_type": "execute_result",
          "data": {
            "text/plain": [
              "<Figure size 1800x1440 with 0 Axes>"
            ]
          },
          "metadata": {},
          "execution_count": 82
        },
        {
          "output_type": "stream",
          "name": "stderr",
          "text": [
            "/usr/local/lib/python3.8/dist-packages/seaborn/_decorators.py:36: FutureWarning: Pass the following variables as keyword args: x, y. From version 0.12, the only valid positional argument will be `data`, and passing other arguments without an explicit keyword will result in an error or misinterpretation.\n",
            "  warnings.warn(\n"
          ]
        },
        {
          "output_type": "execute_result",
          "data": {
            "text/plain": [
              "<matplotlib.axes._subplots.AxesSubplot at 0x7f2c7a3c0850>"
            ]
          },
          "metadata": {},
          "execution_count": 82
        },
        {
          "output_type": "display_data",
          "data": {
            "text/plain": [
              "<Figure size 1800x1440 with 1 Axes>"
            ],
            "image/png": "[encoded data removed]"
          },
          "metadata": {
            "needs_background": "light"
          }
        }
      ]
    },
    {
      "cell_type": "markdown",
      "source": [
        "This implies that brand Herbal Essences has given huge price discounts in comparison with the other brands."
      ],
      "metadata": {
        "id": "CdjWfh8FDJud"
      }
    }
  ]
}